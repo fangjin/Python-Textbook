{
 "cells": [
  {
   "cell_type": "code",
   "execution_count": null,
   "id": "79aa6be7",
   "metadata": {},
   "outputs": [],
   "source": [
    "#Q1\n",
    "#Reference code\n",
    " [  # Class 1\n",
    "        [78, 82],  # Student 1 scores\n",
    "        [85, 89],  # Student 2 scores\n",
    "        [91, 94],  # Student 3 scores\n",
    "        [88, 90]   # Student 4 scores\n",
    "    ],\n",
    "    [  # Class 2\n",
    "        [75, 80],  # Student 1 scores\n",
    "        [82, 85],  # Student 2 scores\n",
    "        [79, 81],  # Student 3 scores\n",
    "        [91, 95]   # Student 4 scores\n",
    "    ],\n",
    "    [  # Class 3\n",
    "        [92, 95],  # Student 1 scores\n",
    "        [88, 90],  # Student 2 scores\n",
    "        [85, 88],  # Student 3 scores\n",
    "        [90, 92]   # Student 4 scores\n",
    "    ]\n",
    "])\n",
    "\n",
    "#Answer code\n",
    "import numpy as np\n",
    "\n",
    "\n",
    "# Initial array with Class 3 having an extra student 4 scores and lacking Student 6\n",
    "classes_scores = np.array([\n",
    "    [\n",
    "        [78, 82],  # Class 1, Student 1 scores\n",
    "        [85, 89],  # Class 1, Student 2 scores\n",
    "        [91, 94],  # Class 1, Student 3 scores\n",
    "        [88, 90]   # Class 1, Student 4 scores\n",
    "    ],\n",
    "    [\n",
    "        [75, 80],  # Class 2, Student 1 scores\n",
    "        [82, 85],  # Class 2, Student 2 scores\n",
    "        [79, 81],  # Class 2, Student 3 scores\n",
    "        [91, 95]   # Class 2, Student 4 scores\n",
    "    ],\n",
    "    [\n",
    "        [92, 95],  # Class 3, Student 1 scores\n",
    "        [88, 90],  # Class 3, Student 2 scores\n",
    "        [85, 88],  # Class 3, Student 3 scores\n",
    "        [90, 92],  # Class 3, Student 4 scores\n",
    "        [66, 77]   # Class 3, Student 5 scores\n",
    "    ]\n",
    "])\n",
    "\n",
    "\n",
    "# Removing Student 4's scores from Class 3\n",
    "# Since Class 3 is the third element (index 2), we need to modify that part\n",
    "class3_without_student4 = np.delete(classes_scores[2], 3, axis=0)  # Remove the fourth student (index 3)\n",
    "\n",
    "\n",
    "# Adding scores for Student 6 in Class 3\n",
    "student6_scores = [67, 80]\n",
    "new_class3_scores = np.vstack((class3_without_student4, student6_scores))\n",
    "\n",
    "\n",
    "# Update the original classes_scores array\n",
    "classes_scores[2] = new_class3_scores\n",
    "\n"
   ]
  },
  {
   "cell_type": "code",
   "execution_count": null,
   "id": "559c94ac",
   "metadata": {},
   "outputs": [],
   "source": []
  },
  {
   "cell_type": "code",
   "execution_count": null,
   "id": "d278202b",
   "metadata": {},
   "outputs": [],
   "source": []
  },
  {
   "cell_type": "code",
   "execution_count": null,
   "id": "8dab2014",
   "metadata": {},
   "outputs": [],
   "source": []
  },
  {
   "cell_type": "code",
   "execution_count": null,
   "id": "fdb588e6",
   "metadata": {},
   "outputs": [],
   "source": []
  }
 ],
 "metadata": {
  "kernelspec": {
   "display_name": "Python 3 (ipykernel)",
   "language": "python",
   "name": "python3"
  },
  "language_info": {
   "codemirror_mode": {
    "name": "ipython",
    "version": 3
   },
   "file_extension": ".py",
   "mimetype": "text/x-python",
   "name": "python",
   "nbconvert_exporter": "python",
   "pygments_lexer": "ipython3",
   "version": "3.11.5"
  }
 },
 "nbformat": 4,
 "nbformat_minor": 5
}
