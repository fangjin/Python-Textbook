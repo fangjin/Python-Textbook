{
 "cells": [
  {
   "cell_type": "code",
   "execution_count": null,
   "id": "a35339c4",
   "metadata": {},
   "outputs": [],
   "source": [
    "#Q1\n",
    "#Reference code\n",
    "\n",
    "\n",
    "classes_scores =np.array ([\n",
    "    [  # Class 1\n",
    "        [78, 82],  # Student 1 scores\n",
    "        [85, 89],  # Student 2 scores\n",
    "        [91, 94],  # Student 3 scores\n",
    "        [88, 90]   # Student 4 scores\n",
    "    ],\n",
    "    [  # Class 2\n",
    "        [75, 80],  # Student 1 scores\n",
    "        [82, 85],  # Student 2 scores\n",
    "        [79, 81],  # Student 3 scores\n",
    "        [91, 95]   # Student 4 scores\n",
    "    ],\n",
    "    [  # Class 3\n",
    "        [92, 95],  # Student 1 scores\n",
    "        [88, 90],  # Student 2 scores\n",
    "        [85, 88],  # Student 3 scores\n",
    "        [90, 92]   # Student 4 scores\n",
    "    ]\n",
    "])\n",
    "\n"
   ]
  },
  {
   "cell_type": "code",
   "execution_count": null,
   "id": "197d2ad8",
   "metadata": {},
   "outputs": [],
   "source": [
    "#Q2\n",
    "#reference code\n",
    "# Suppose we have data for 3 classes, each with 4 students, and we're recording 2 scores for each student.\n",
    "\n",
    "\n",
    "classes_scores =np.array ([\n",
    "    [  # Class 1\n",
    "        [78, 82],  # Student 1 scores\n",
    "        [85, 89],  # Student 2 scores\n",
    "        [91, 94],  # Student 3 scores\n",
    "        [88, 90]   # Student 4 scores\n",
    "    ],\n",
    "    [  # Class 2\n",
    "        [75, 80],  # Student 1 scores\n",
    "        [82, 85],  # Student 2 scores\n",
    "        [79, 81],  # Student 3 scores\n",
    "        [91, 95]   # Student 4 scores\n",
    "    ],\n",
    "    [  # Class 3\n",
    "        [92, 95],  # Student 1 scores\n",
    "        [88, 90],  # Student 2 scores\n",
    "        [85, 88],  # Student 3 scores\n",
    "        [90, 92]   # Student 4 scores\n",
    "    ]\n",
    "])\n",
    "#Answer code\n",
    "classes_scores =np.array ([\n",
    "    [  # Class 1\n",
    "        [78, 82],  # Student 1 scores\n",
    "        [85, 89],  # Student 2 scores\n",
    "        [91, 94],  # Student 3 scores\n",
    "        [88, 90]   # Student 4 scores\n",
    "    ],\n",
    "    [  # Class 2\n",
    "        [75, 80],  # Student 1 scores\n",
    "        [82, 85],  # Student 2 scores\n",
    "        [79, 81],  # Student 3 scores\n",
    "        [91, 95]   # Student 4 scores\n",
    "    ],\n",
    "    [  # Class 3\n",
    "        [92, 95],  # Student 1 scores\n",
    "        [88, 90],  # Student 2 scores\n",
    "        [85, 88],  # Student 3 scores\n",
    "        [90, 92]   # Student 4 scores\n",
    "        [66, 77]   # Student 5 scores\n",
    "    ]\n",
    "])\n"
   ]
  },
  {
   "cell_type": "code",
   "execution_count": null,
   "id": "5bbc0374",
   "metadata": {},
   "outputs": [],
   "source": []
  },
  {
   "cell_type": "code",
   "execution_count": null,
   "id": "9ce0a95d",
   "metadata": {},
   "outputs": [],
   "source": []
  },
  {
   "cell_type": "code",
   "execution_count": null,
   "id": "88a955dd",
   "metadata": {},
   "outputs": [],
   "source": []
  },
  {
   "cell_type": "code",
   "execution_count": null,
   "id": "cc97cce8",
   "metadata": {},
   "outputs": [],
   "source": []
  }
 ],
 "metadata": {
  "kernelspec": {
   "display_name": "Python 3 (ipykernel)",
   "language": "python",
   "name": "python3"
  },
  "language_info": {
   "codemirror_mode": {
    "name": "ipython",
    "version": 3
   },
   "file_extension": ".py",
   "mimetype": "text/x-python",
   "name": "python",
   "nbconvert_exporter": "python",
   "pygments_lexer": "ipython3",
   "version": "3.11.5"
  }
 },
 "nbformat": 4,
 "nbformat_minor": 5
}
