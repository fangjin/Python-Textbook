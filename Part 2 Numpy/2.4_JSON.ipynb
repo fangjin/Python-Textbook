{
 "cells": [
  {
   "cell_type": "code",
   "execution_count": null,
   "id": "7df3ff09",
   "metadata": {},
   "outputs": [],
   "source": [
    "#Q1\n",
    "#Reference code\n",
    "json_example = [{\"name\": \"Alex C\",\"age\": 2,\"city\": \"Houston\"},{\"name\": \"John G\",\"age\": 40,\"city\": \"Washington\"},{\"name\": \"Bala T\",\"age\": 22,\"city\": \"Bangalore\"}]\n",
    "\n",
    "#Answer code\n",
    "import numpy as np\n",
    "\n",
    "import json\n",
    "\n",
    "\n",
    "# Existing data\n",
    "json_example = [\n",
    "    {\"name\": \"Alex C\", \"age\": 2, \"city\": \"Houston\"},\n",
    "    {\"name\": \"John G\", \"age\": 40, \"city\": \"Washington\"},\n",
    "    {\"name\": \"Bala T\", \"age\": 22, \"city\": \"Bangalore\"}\n",
    "]\n",
    "\n",
    "\n",
    "# Adding height information\n",
    "heights = [175, 180, 166]  # Heights corresponding to Alex, John, and Bala\n",
    "for person, height in zip(json_example, heights):\n",
    "    person[\"height\"] = height\n",
    "\n",
    "\n",
    "# Adding new person's information\n",
    "new_person = {\"name\": \"Jake\", \"age\": 39, \"city\": \"Washington DC\", \"height\": 188}\n",
    "json_example.append(new_person)\n",
    "\n",
    "\n",
    "# Converting the updated list of dictionaries to a JSON string\n",
    "json_string = json.dumps(json_example, indent=4)\n",
    "\n",
    "\n",
    "# Writing the JSON string to a file\n",
    "with open('student.json', 'w') as json_file:\n",
    "    json_file.write(json_string)\n",
    "\n",
    "\n",
    "print(\"The data has been written to 'student.json'\")\n",
    "\n"
   ]
  },
  {
   "cell_type": "code",
   "execution_count": null,
   "id": "83717841",
   "metadata": {},
   "outputs": [],
   "source": []
  },
  {
   "cell_type": "code",
   "execution_count": null,
   "id": "2efe155e",
   "metadata": {},
   "outputs": [],
   "source": []
  },
  {
   "cell_type": "code",
   "execution_count": null,
   "id": "92c9073b",
   "metadata": {},
   "outputs": [],
   "source": []
  },
  {
   "cell_type": "code",
   "execution_count": null,
   "id": "26d8578e",
   "metadata": {},
   "outputs": [],
   "source": []
  }
 ],
 "metadata": {
  "kernelspec": {
   "display_name": "Python 3 (ipykernel)",
   "language": "python",
   "name": "python3"
  },
  "language_info": {
   "codemirror_mode": {
    "name": "ipython",
    "version": 3
   },
   "file_extension": ".py",
   "mimetype": "text/x-python",
   "name": "python",
   "nbconvert_exporter": "python",
   "pygments_lexer": "ipython3",
   "version": "3.11.5"
  }
 },
 "nbformat": 4,
 "nbformat_minor": 5
}
