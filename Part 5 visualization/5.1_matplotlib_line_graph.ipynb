{
 "cells": [
  {
   "cell_type": "code",
   "execution_count": null,
   "id": "32d589e7",
   "metadata": {},
   "outputs": [],
   "source": [
    "#Q1\n",
    "#Reference code\n",
    "cities = ['New York', 'Los Angeles', 'Chicago', 'Houston', 'Phoenix']\n",
    "populations = [8398.748, 3990.456, 2705.994, 2325.502, 1660.272]  # in thousands\n",
    "land_areas = [778.3, 1216.0, 589.7, 1658.6, 1341.6]  # in square kilometers\n",
    "#Answer code\n",
    "import matplotlib.pyplot as plt\n",
    "\n",
    "\n",
    "# Data for the cities\n",
    "cities = ['New York', 'Los Angeles', 'Chicago', 'Houston', 'Phoenix']\n",
    "populations = [8398.748, 3990.456, 2705.994, 2325.502, 1660.272]  # in thousands\n",
    "land_areas = [778.3, 1216.0, 589.7, 1658.6, 1341.6]  # in square kilometers\n",
    "\n",
    "\n",
    "# Plotting population and land area on the same graph\n",
    "plt.figure(figsize=(10, 5))\n",
    "\n",
    "\n",
    "plt.subplot(1, 2, 1)\n",
    "plt.plot(cities, populations, label='Population', marker='o')\n",
    "plt.plot(cities, land_areas, label='Land Area', marker='o')\n",
    "plt.title('Population and Land Area of Cities')\n",
    "plt.xlabel('City')\n",
    "plt.ylabel('Value')\n",
    "plt.legend()\n",
    "\n",
    "\n",
    "# Calculating population density (population per sq. km)\n",
    "population_density = [pop/area for pop, area in zip(populations, land_areas)]\n",
    "\n",
    "\n",
    "plt.subplot(1, 2, 2)\n",
    "plt.bar(cities, population_density, color='green')\n",
    "plt.title('Population Density of Cities')\n",
    "plt.xlabel('City')\n",
    "plt.ylabel('Population per sq. km')\n",
    "\n",
    "\n",
    "# Show the plot\n",
    "plt.tight_layout()\n",
    "plt.show()\n",
    "\n",
    "\n",
    "# Identifying the most crowded city by population density\n",
    "most_crowded = cities[population_density.index(max(population_density))]\n",
    "print(f\"The most crowded city is {most_crowded} based on population density.\")\n",
    "\n",
    "\n"
   ]
  }
 ],
 "metadata": {
  "kernelspec": {
   "display_name": "Python 3 (ipykernel)",
   "language": "python",
   "name": "python3"
  },
  "language_info": {
   "codemirror_mode": {
    "name": "ipython",
    "version": 3
   },
   "file_extension": ".py",
   "mimetype": "text/x-python",
   "name": "python",
   "nbconvert_exporter": "python",
   "pygments_lexer": "ipython3",
   "version": "3.11.5"
  }
 },
 "nbformat": 4,
 "nbformat_minor": 5
}
