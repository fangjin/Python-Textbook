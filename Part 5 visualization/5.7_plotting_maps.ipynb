{
 "cells": [
  {
   "cell_type": "code",
   "execution_count": null,
   "id": "71dd7476",
   "metadata": {},
   "outputs": [],
   "source": [
    "#Q1\n",
    "\n",
    "\n",
    "#Answer code\n",
    "import matplotlib.pyplot as plt\n",
    "from mpl_toolkits.basemap import Basemap\n",
    "\n",
    "\n",
    "# Create figure and axes objects\n",
    "fig, ax = plt.subplots()\n",
    "\n",
    "\n",
    "# Create a Basemap instance for the United States\n",
    "m = Basemap(projection='merc', llcrnrlat=25, urcrnrlat=50, llcrnrlon=-125, urcrnrlon=-66, lat_ts=20, resolution='i', ax=ax)\n",
    "\n",
    "\n",
    "# Draw coastlines, country boundaries, and rivers\n",
    "m.drawcoastlines()\n",
    "m.drawcountries()\n",
    "m.drawrivers(color='blue')\n",
    "\n",
    "\n",
    "# Cities and their coordinates\n",
    "cities = {\n",
    "    \"New York\": (-74.0060, 40.7128),\n",
    "    \"Los Angeles\": (-118.2437, 34.0522),\n",
    "    \"Chicago\": (-87.6298, 41.8781),\n",
    "    \"Houston\": (-95.3698, 29.7604),\n",
    "    \"Phoenix\": (-112.0740, 33.4484)\n",
    "}\n",
    "\n",
    "\n",
    "# Plot data points directly using Basemap methods\n",
    "for city, (lon, lat) in cities.items():\n",
    "    x, y = m(lon, lat)\n",
    "    m.plot(x, y, 'ro', markersize=10, ax=ax)  # Red circles\n",
    "    plt.text(x, y, city, fontsize=12, ha='right')\n",
    "\n",
    "\n",
    "plt.title('Locations of Five Major U.S. Cities')\n",
    "plt.show()\n",
    "\n",
    "\n",
    "\n",
    "\n"
   ]
  }
 ],
 "metadata": {
  "kernelspec": {
   "display_name": "Python 3 (ipykernel)",
   "language": "python",
   "name": "python3"
  },
  "language_info": {
   "codemirror_mode": {
    "name": "ipython",
    "version": 3
   },
   "file_extension": ".py",
   "mimetype": "text/x-python",
   "name": "python",
   "nbconvert_exporter": "python",
   "pygments_lexer": "ipython3",
   "version": "3.11.5"
  }
 },
 "nbformat": 4,
 "nbformat_minor": 5
}
