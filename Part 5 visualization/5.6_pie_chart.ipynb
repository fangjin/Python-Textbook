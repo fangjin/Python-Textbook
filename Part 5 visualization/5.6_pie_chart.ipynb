{
 "cells": [
  {
   "cell_type": "code",
   "execution_count": null,
   "id": "82642d63",
   "metadata": {},
   "outputs": [],
   "source": [
    "#Q1\n",
    "#Reference code\n",
    "# Educational funding dataset for creating pie charts\n",
    "labels = ['Research', 'Scholarships', 'Facilities', 'Staff Salaries']\n",
    "fund_distribution = [30, 25, 20, 25]  # Percentage of each funding sector\n",
    "\n",
    "#Answer code\n",
    "# Creating a basic pie chart\n",
    "plt.pie(fund_distribution, labels=labels)\n",
    "plt.axis('equal')  # Ensures the pie chart is circular\n",
    "plt.show()\n",
    "\n",
    "\n",
    "\n"
   ]
  },
  {
   "cell_type": "code",
   "execution_count": null,
   "id": "977e9cb1",
   "metadata": {},
   "outputs": [],
   "source": [
    "#Q2\n",
    "#Reference code\n",
    "# Educational funding dataset for creating pie charts\n",
    "labels = ['Research', 'Scholarships', 'Facilities', 'Staff Salaries']\n",
    "fund_distribution = [30, 25, 20, 25]  # Percentage of each funding sector\n",
    "#Answer code\n",
    "colors = ['gold', 'yellowgreen', 'lightcoral', 'lightskyblue']\n",
    "explode = (0, 0.1, 0, 0)  # Only explode the 2nd slice (Scholarships)\n",
    "\n",
    "\n",
    "plt.pie(fund_distribution, labels=labels, colors=colors, explode=explode)\n",
    "plt.axis('equal')\n",
    "plt.show()\n",
    "\n",
    "\n",
    "\n"
   ]
  },
  {
   "cell_type": "code",
   "execution_count": null,
   "id": "86d5f3e3",
   "metadata": {},
   "outputs": [],
   "source": [
    "#Q3\n",
    "#Reference code\n",
    "# Educational funding dataset for creating pie charts\n",
    "labels = ['Research', 'Scholarships', 'Facilities', 'Staff Salaries']\n",
    "fund_distribution = [30, 25, 20, 25]  # Percentage of each funding sector\n",
    "#Answer code\n",
    "# Pie chart with shadow and percentage display\n",
    "plt.pie(fund_distribution, labels=labels, colors=colors, explode=explode, shadow=True, autopct='%1.1f%%')\n",
    "plt.axis('equal')\n",
    "plt.show()\n",
    "\n"
   ]
  }
 ],
 "metadata": {
  "kernelspec": {
   "display_name": "Python 3 (ipykernel)",
   "language": "python",
   "name": "python3"
  },
  "language_info": {
   "codemirror_mode": {
    "name": "ipython",
    "version": 3
   },
   "file_extension": ".py",
   "mimetype": "text/x-python",
   "name": "python",
   "nbconvert_exporter": "python",
   "pygments_lexer": "ipython3",
   "version": "3.11.5"
  }
 },
 "nbformat": 4,
 "nbformat_minor": 5
}
