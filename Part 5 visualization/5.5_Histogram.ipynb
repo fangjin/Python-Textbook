{
 "cells": [
  {
   "cell_type": "code",
   "execution_count": null,
   "id": "5978958b",
   "metadata": {},
   "outputs": [],
   "source": [
    "#Q1\n",
    "#Reference code\n",
    "# Financial dataset for creating histograms\n",
    "annual_income = [35000, 42000, 48000, 55000, 62000, 69000, 72000, 80000, 88000, 95000,\n",
    "                 102000, 110000, 115000, 123000, 130000]\n",
    "\n",
    "#Answer code\n",
    "import matplotlib.pyplot as plt\n",
    "\n",
    "\n",
    "# Creating a basic histogram\n",
    "annual_income = [35000, 42000, 48000, 55000, 62000, 69000, 72000, 80000, 88000, 95000,\n",
    "                 102000, 110000, 115000, 123000, 130000]\n",
    "\n",
    "\n",
    "plt.hist(annual_income, bins=5, color='blue', edgecolor='black')\n",
    "plt.title('Distribution of Annual Income')\n",
    "plt.xlabel('Income')\n",
    "plt.ylabel('Frequency')\n",
    "plt.show()\n",
    "\n",
    "\n",
    "\n"
   ]
  },
  {
   "cell_type": "code",
   "execution_count": null,
   "id": "18f048d3",
   "metadata": {},
   "outputs": [],
   "source": [
    "#Q2\n",
    "#Reference code\n",
    "# Financial dataset for creating histograms\n",
    "annual_income = [35000, 42000, 48000, 55000, 62000, 69000, 72000, 80000, 88000, 95000,\n",
    "                 102000, 110000, 115000, 123000, 130000]\n",
    "\n",
    "#Answer code\n",
    "# Customized histogram with density plot\n",
    "plt.hist(annual_income, bins=10, color='green', edgecolor='black', density=True)\n",
    "plt.title('Normalized Distribution of Annual Income')\n",
    "plt.xlabel('Income')\n",
    "plt.ylabel('Density')\n",
    "plt.show()\n",
    "\n",
    "\n"
   ]
  },
  {
   "cell_type": "code",
   "execution_count": null,
   "id": "dfa8569a",
   "metadata": {},
   "outputs": [],
   "source": [
    "#Q3\n",
    "#Reference code\n",
    "# Financial dataset for creating histograms\n",
    "annual_income = [35000, 42000, 48000, 55000, 62000, 69000, 72000, 80000, 88000, 95000,\n",
    "                 102000, 110000, 115000, 123000, 130000]\n",
    "#Answer code\n",
    "# Comparative histogram with a second dataset\n",
    "annual_income_2 = [37000, 45000, 50000, 60000, 68000, 75000, 78000, 85000, 91000, 98000,\n",
    "                   105000, 112000, 118000, 125000, 132000]\n",
    "\n",
    "\n",
    "plt.hist([annual_income, annual_income_2], bins=8, color=['blue', 'red'], label=['Demographic 1', 'Demographic 2'], edgecolor='black')\n",
    "plt.title('Comparative Income Distribution')\n",
    "plt.xlabel('Income')\n",
    "plt.ylabel('Frequency')\n",
    "plt.legend()\n",
    "plt.show()\n"
   ]
  }
 ],
 "metadata": {
  "kernelspec": {
   "display_name": "Python 3 (ipykernel)",
   "language": "python",
   "name": "python3"
  },
  "language_info": {
   "codemirror_mode": {
    "name": "ipython",
    "version": 3
   },
   "file_extension": ".py",
   "mimetype": "text/x-python",
   "name": "python",
   "nbconvert_exporter": "python",
   "pygments_lexer": "ipython3",
   "version": "3.11.5"
  }
 },
 "nbformat": 4,
 "nbformat_minor": 5
}
