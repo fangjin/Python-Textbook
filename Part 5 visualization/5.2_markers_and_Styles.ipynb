{
 "cells": [
  {
   "cell_type": "code",
   "execution_count": null,
   "id": "292a362a",
   "metadata": {},
   "outputs": [],
   "source": [
    "#Q1\n",
    "#Reference code\n",
    "cities = ['New York', 'Los Angeles', 'Chicago', 'Houston', 'Phoenix']\n",
    "populations = [8398.748, 3990.456, 2705.994, 2325.502, 1660.272]\n",
    "land_areas = [778.3, 1216.0, 589.7, 1658.6, 1341.6]\n",
    "#Answer code\n",
    "import matplotlib.pyplot as plt\n",
    "\n",
    "\n",
    "# Data setup\n",
    "cities = ['New York', 'Los Angeles', 'Chicago', 'Houston', 'Phoenix']\n",
    "populations = [8398.748, 3990.456, 2705.994, 2325.502, 1660.272]\n",
    "land_areas = [778.3, 1216.0, 589.7, 1658.6, 1341.6]\n",
    "\n",
    "\n",
    "# Creating the plot\n",
    "plt.figure(figsize=(10, 6))\n",
    "\n",
    "\n",
    "# Experiment 1: Circle Markers\n",
    "plt.subplot(1, 3, 1)\n",
    "plt.plot(cities, populations, label='Population', marker='o', markersize=8, markerfacecolor='yellow', markeredgewidth=2, markeredgecolor='black')\n",
    "plt.plot(cities, land_areas, label='Land Area')\n",
    "plt.title('Circle Markers')\n",
    "plt.xlabel('City')\n",
    "plt.ylabel('Value')\n",
    "plt.legend()\n",
    "\n",
    "\n",
    "# Experiment 2: Square Markers\n",
    "plt.subplot(1, 3, 2)\n",
    "plt.plot(cities, populations, label='Population', marker='s', markersize=10, markerfacecolor='blue', markeredgewidth=2, markeredgecolor='red')\n",
    "plt.plot(cities, land_areas, label='Land Area')\n",
    "plt.title('Square Markers')\n",
    "plt.xlabel('City')\n",
    "plt.ylabel('Value')\n",
    "plt.legend()\n",
    "\n",
    "\n",
    "# Experiment 3: Diamond Markers\n",
    "plt.subplot(1, 3, 3)\n",
    "plt.plot(cities, populations, label='Population', marker='d', markersize=12, markerfacecolor='green', markeredgewidth=3, markeredgecolor='orange')\n",
    "plt.plot(cities, land_areas, label='Land Area')\n",
    "plt.title('Diamond Markers')\n",
    "plt.xlabel('City')\n",
    "plt.ylabel('Value')\n",
    "plt.legend()\n",
    "\n",
    "\n",
    "# Show the plot\n",
    "plt.tight_layout()\n",
    "plt.show()\n",
    "\n",
    "\n",
    "\n"
   ]
  }
 ],
 "metadata": {
  "kernelspec": {
   "display_name": "Python 3 (ipykernel)",
   "language": "python",
   "name": "python3"
  },
  "language_info": {
   "codemirror_mode": {
    "name": "ipython",
    "version": 3
   },
   "file_extension": ".py",
   "mimetype": "text/x-python",
   "name": "python",
   "nbconvert_exporter": "python",
   "pygments_lexer": "ipython3",
   "version": "3.11.5"
  }
 },
 "nbformat": 4,
 "nbformat_minor": 5
}
