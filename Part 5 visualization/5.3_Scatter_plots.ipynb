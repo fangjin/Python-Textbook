{
 "cells": [
  {
   "cell_type": "code",
   "execution_count": null,
   "id": "594fc612",
   "metadata": {},
   "outputs": [],
   "source": [
    "#Q1\n",
    "#Reference code\n",
    "# Air quality dataset\n",
    "data = {\n",
    "    'City': ['New York', 'Los Angeles', 'Chicago', 'Houston', 'Phoenix'],\n",
    "    'PM10': [20, 30, 45, 22, 29],  # PM10 levels\n",
    "    'NO2': [30, 45, 22, 35, 40]    # NO2 levels\n",
    "}\n",
    "\n",
    "#Answer code\n",
    "import matplotlib.pyplot as plt\n",
    "\n",
    "\n",
    "# Using the dataset\n",
    "cities = data['City']\n",
    "pm10 = data['PM10']\n",
    "no2 = data['NO2']\n",
    "\n",
    "\n",
    "# Creating the scatter plot\n",
    "plt.figure(figsize=(8, 5))\n",
    "plt.scatter(pm10, no2, color='green')\n",
    "plt.title('Air Quality: PM10 vs NO2 Levels')\n",
    "plt.xlabel('PM10 Levels')\n",
    "plt.ylabel('NO2 Levels')\n",
    "plt.show()\n",
    "\n",
    "\n",
    "\n",
    "\n"
   ]
  },
  {
   "cell_type": "code",
   "execution_count": null,
   "id": "ecfbc5c6",
   "metadata": {},
   "outputs": [],
   "source": [
    "#Q2\n",
    "#Reference code\n",
    "# Air quality dataset\n",
    "data = {\n",
    "    'City': ['New York', 'Los Angeles', 'Chicago', 'Houston', 'Phoenix'],\n",
    "    'PM10': [20, 30, 45, 22, 29],  # PM10 levels\n",
    "    'NO2': [30, 45, 22, 35, 40]    # NO2 levels\n",
    "}\n",
    "\n",
    "#Answer code\n",
    "sizes = [i * 10 for i in pm10]  # Size based on PM10 levels\n",
    "colors = no2  # Color based on NO2 levels\n",
    "\n",
    "\n",
    "plt.scatter(pm10, no2, s=sizes, c=colors, cmap='viridis', alpha=0.5, edgecolors='black', linewidths=2)\n",
    "plt.colorbar(label='NO2 Levels')\n",
    "plt.title('Enhanced Air Quality Scatter Plot')\n",
    "plt.xlabel('PM10 Levels')\n",
    "plt.ylabel('NO2 Levels')\n",
    "plt.show()\n",
    "\n"
   ]
  },
  {
   "cell_type": "code",
   "execution_count": null,
   "id": "a2028859",
   "metadata": {},
   "outputs": [],
   "source": []
  },
  {
   "cell_type": "code",
   "execution_count": null,
   "id": "4e5fe492",
   "metadata": {},
   "outputs": [],
   "source": []
  }
 ],
 "metadata": {
  "kernelspec": {
   "display_name": "Python 3 (ipykernel)",
   "language": "python",
   "name": "python3"
  },
  "language_info": {
   "codemirror_mode": {
    "name": "ipython",
    "version": 3
   },
   "file_extension": ".py",
   "mimetype": "text/x-python",
   "name": "python",
   "nbconvert_exporter": "python",
   "pygments_lexer": "ipython3",
   "version": "3.11.5"
  }
 },
 "nbformat": 4,
 "nbformat_minor": 5
}
