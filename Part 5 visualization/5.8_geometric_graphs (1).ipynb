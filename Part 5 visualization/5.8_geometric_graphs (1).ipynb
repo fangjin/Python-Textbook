{
 "cells": [
  {
   "cell_type": "code",
   "execution_count": null,
   "id": "e03e8bc7",
   "metadata": {},
   "outputs": [],
   "source": [
    "#Q1\n",
    "\n",
    "\n",
    "#Answer code\n",
    "import matplotlib.pyplot as plt\n",
    "from matplotlib.patches import Circle, Rectangle, Polygon\n",
    "\n",
    "\n",
    "# Create figure and axes objects for three subplots\n",
    "fig, (ax1, ax2, ax3) = plt.subplots(1, 3, figsize=(15, 5))\n",
    "\n",
    "\n",
    "# Circle\n",
    "circle = Circle((0.5, 0.5), 0.3, color='green', fill=True, linestyle='dotted', linewidth=2)\n",
    "ax1.add_patch(circle)\n",
    "ax1.set_title('Circle')\n",
    "ax1.set_xlim(0, 1)\n",
    "ax1.set_ylim(0, 1)\n",
    "ax1.set_aspect('equal')\n",
    "\n",
    "\n",
    "# Rectangle\n",
    "rectangle = Rectangle((0.2, 0.2), 0.6, 0.4, color='blue', fill=True, edgecolor='black', linestyle='--', linewidth=3)\n",
    "ax2.add_patch(rectangle)\n",
    "ax2.set_title('Rectangle')\n",
    "ax2.set_xlim(0, 1)\n",
    "ax2.set_ylim(0, 1)\n",
    "ax2.set_aspect('equal')\n",
    "\n",
    "\n",
    "# Polygon (Triangle)\n",
    "triangle = Polygon([(0.2, 0.8), (0.8, 0.8), (0.5, 0.1)], color='red', fill=False, linestyle='-.', linewidth=1.5)\n",
    "ax3.add_patch(triangle)\n",
    "ax3.set_title('Triangle')\n",
    "ax3.set_xlim(0, 1)\n",
    "ax3.set_ylim(0, 1)\n",
    "ax3.set_aspect('equal')\n",
    "\n",
    "\n",
    "# Display the plot\n",
    "plt.tight_layout()\n",
    "plt.show()\n",
    "\n",
    "\n",
    "\n",
    "\n"
   ]
  }
 ],
 "metadata": {
  "kernelspec": {
   "display_name": "Python 3 (ipykernel)",
   "language": "python",
   "name": "python3"
  },
  "language_info": {
   "codemirror_mode": {
    "name": "ipython",
    "version": 3
   },
   "file_extension": ".py",
   "mimetype": "text/x-python",
   "name": "python",
   "nbconvert_exporter": "python",
   "pygments_lexer": "ipython3",
   "version": "3.11.5"
  }
 },
 "nbformat": 4,
 "nbformat_minor": 5
}
