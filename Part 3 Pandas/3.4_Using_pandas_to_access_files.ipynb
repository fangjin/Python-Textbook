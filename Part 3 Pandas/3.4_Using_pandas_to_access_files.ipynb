{
 "cells": [
  {
   "cell_type": "code",
   "execution_count": null,
   "id": "07a02919",
   "metadata": {},
   "outputs": [],
   "source": [
    "#Q1\n",
    "\n",
    "\n",
    "#Answer code\n",
    "import pandas as pd\n",
    "\n",
    "\n",
    "# Specify the file path for the CSV file\n",
    "file_path = 'students.csv'\n",
    "\n",
    "\n",
    "# Reading CSV data into a DataFrame\n",
    "df = pd.read_csv(file_path)\n",
    "\n",
    "\n",
    "# Print the DataFrame\n",
    "print(df)\n"
   ]
  },
  {
   "cell_type": "code",
   "execution_count": null,
   "id": "dcbfdfd6",
   "metadata": {},
   "outputs": [],
   "source": [
    "#Q2\n",
    "#reference code\n",
    "\n",
    "#Answer code\n",
    "\n",
    "import pandas as pd\n",
    "\n",
    "\n",
    "# Specify the file path for the JSON file\n",
    "file_path = 'weather.json'\n",
    "\n",
    "\n",
    "# Reading JSON data into a DataFrame\n",
    "df = pd.read_json(file_path)\n",
    "\n",
    "\n",
    "# Print the DataFrame\n",
    "print(df)"
   ]
  },
  {
   "cell_type": "code",
   "execution_count": null,
   "id": "1b87063a",
   "metadata": {},
   "outputs": [],
   "source": [
    "#Q3\n",
    "#reference code\n",
    "data = [\n",
    "    {\"name\": \"John\", \"department\": \"Sales\", \"salary\": 90000},\n",
    "    {\"name\": \"Sara\", \"department\": \"Marketing\", \"salary\": 85000},\n",
    "    {\"name\": \"Pedro\", \"department\": \"Operations\", \"salary\": 72000}\n",
    "]\n",
    "\n",
    "#Answer code\n",
    "import pandas as pd\n",
    "\n",
    "\n",
    "# List of dictionaries with employee data\n",
    "data = [\n",
    "    {\"name\": \"John\", \"department\": \"Sales\", \"salary\": 90000},\n",
    "    {\"name\": \"Sara\", \"department\": \"Marketing\", \"salary\": 85000},\n",
    "    {\"name\": \"Pedro\", \"department\": \"Operations\", \"salary\": 72000}\n",
    "]\n",
    "\n",
    "\n",
    "# Convert to DataFrame with custom index\n",
    "df = pd.DataFrame(data, index=[\"emp1\", \"emp2\", \"emp3\"])\n",
    "\n",
    "\n",
    "# Print the DataFrame\n",
    "print(df)"
   ]
  },
  {
   "cell_type": "code",
   "execution_count": null,
   "id": "858b349f",
   "metadata": {},
   "outputs": [],
   "source": []
  },
  {
   "cell_type": "code",
   "execution_count": null,
   "id": "9396528e",
   "metadata": {},
   "outputs": [],
   "source": []
  }
 ],
 "metadata": {
  "kernelspec": {
   "display_name": "Python 3 (ipykernel)",
   "language": "python",
   "name": "python3"
  },
  "language_info": {
   "codemirror_mode": {
    "name": "ipython",
    "version": 3
   },
   "file_extension": ".py",
   "mimetype": "text/x-python",
   "name": "python",
   "nbconvert_exporter": "python",
   "pygments_lexer": "ipython3",
   "version": "3.11.5"
  }
 },
 "nbformat": 4,
 "nbformat_minor": 5
}
