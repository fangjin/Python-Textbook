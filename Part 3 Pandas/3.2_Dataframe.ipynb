{
 "cells": [
  {
   "cell_type": "code",
   "execution_count": null,
   "id": "8a6bd365",
   "metadata": {},
   "outputs": [],
   "source": [
    "#Q1\n",
    "\n",
    "#Answer code\n",
    "import pandas as pd\n",
    "\n",
    "\n",
    "# Data preparation\n",
    "data = {\n",
    "    'Name': ['Alice', 'Bob', 'Catherine', 'David'],\n",
    "    'Major': ['Biology', 'Physics', 'Chemistry', 'Mathematics'],\n",
    "    'Graduation Year': [2024, 2023, 2025, 2024]\n",
    "}\n",
    "\n",
    "\n",
    "# Create DataFrame\n",
    "students_df = pd.DataFrame(data)\n",
    "students_df.index = ['a', 'b', 'c', 'd']\n",
    "\n",
    "\n",
    "# Retrieve major for 'c'\n",
    "major_c = students_df.loc['c', 'Major']\n",
    "print(\"The major corresponding to 'c' is:\", major_c)\n",
    "\n",
    "\n",
    "# Drop null values (example purpose, no nulls in this data)\n",
    "students_df.dropna(inplace=True)\n",
    "print(students_df)\n"
   ]
  },
  {
   "cell_type": "code",
   "execution_count": null,
   "id": "2a8321a1",
   "metadata": {},
   "outputs": [],
   "source": []
  },
  {
   "cell_type": "code",
   "execution_count": null,
   "id": "08e99788",
   "metadata": {},
   "outputs": [],
   "source": []
  },
  {
   "cell_type": "code",
   "execution_count": null,
   "id": "71eee873",
   "metadata": {},
   "outputs": [],
   "source": []
  },
  {
   "cell_type": "code",
   "execution_count": null,
   "id": "791253c7",
   "metadata": {},
   "outputs": [],
   "source": []
  }
 ],
 "metadata": {
  "kernelspec": {
   "display_name": "Python 3 (ipykernel)",
   "language": "python",
   "name": "python3"
  },
  "language_info": {
   "codemirror_mode": {
    "name": "ipython",
    "version": 3
   },
   "file_extension": ".py",
   "mimetype": "text/x-python",
   "name": "python",
   "nbconvert_exporter": "python",
   "pygments_lexer": "ipython3",
   "version": "3.11.5"
  }
 },
 "nbformat": 4,
 "nbformat_minor": 5
}
