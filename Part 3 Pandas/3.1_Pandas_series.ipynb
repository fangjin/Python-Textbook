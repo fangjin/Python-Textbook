{
 "cells": [
  {
   "cell_type": "code",
   "execution_count": null,
   "id": "7b4882c8",
   "metadata": {},
   "outputs": [],
   "source": [
    "#Q1\n",
    "\n",
    "#Answer code\n",
    "# List of fruit names including a None\n",
    "fruits = [\"Apple\", \"Banana\", \"Cherry\", \"Date\", \"Elderberry\", \"Fig\", \"Grape\", \"Honeydew\", None]\n",
    "\n",
    "\n",
    "# Custom indices for each fruit\n",
    "indices = ['a', 'b', 'c', 'd', 'e', 'f', 'g', 'h', 'i']\n",
    "\n",
    "\n",
    "# Creating a pandas Series with custom indices\n",
    "fruit_series = pd.Series(fruits, index=indices)\n",
    "\n",
    "\n",
    "# Retrieving the fruit corresponding to index 'g'\n",
    "fruit_at_g = fruit_series['g']\n",
    "print(\"The fruit at index 'g' is:\", fruit_at_g)\n",
    "\n",
    "\n",
    "# Dropping the null value from the series\n",
    "fruit_series.dropna(inplace=True)\n",
    "\n",
    "\n",
    "# Displaying the updated series\n",
    "print(\"Series after dropping the null value:\")\n",
    "print(fruit_series)\n",
    "\n"
   ]
  },
  {
   "cell_type": "code",
   "execution_count": null,
   "id": "e2ae5697",
   "metadata": {},
   "outputs": [],
   "source": []
  },
  {
   "cell_type": "code",
   "execution_count": null,
   "id": "b8320285",
   "metadata": {},
   "outputs": [],
   "source": []
  },
  {
   "cell_type": "code",
   "execution_count": null,
   "id": "e04a9594",
   "metadata": {},
   "outputs": [],
   "source": []
  },
  {
   "cell_type": "code",
   "execution_count": null,
   "id": "58f3fdf0",
   "metadata": {},
   "outputs": [],
   "source": []
  }
 ],
 "metadata": {
  "kernelspec": {
   "display_name": "Python 3 (ipykernel)",
   "language": "python",
   "name": "python3"
  },
  "language_info": {
   "codemirror_mode": {
    "name": "ipython",
    "version": 3
   },
   "file_extension": ".py",
   "mimetype": "text/x-python",
   "name": "python",
   "nbconvert_exporter": "python",
   "pygments_lexer": "ipython3",
   "version": "3.11.5"
  }
 },
 "nbformat": 4,
 "nbformat_minor": 5
}
