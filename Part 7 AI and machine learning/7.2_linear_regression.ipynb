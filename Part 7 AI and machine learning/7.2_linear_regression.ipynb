{
 "cells": [
  {
   "cell_type": "code",
   "execution_count": null,
   "id": "a680b6f2",
   "metadata": {},
   "outputs": [],
   "source": [
    "#Q1\n",
    "\n",
    "#Answer code\n",
    "import numpy as np\n",
    "import pandas as pd\n",
    "import matplotlib.pyplot as plt\n",
    "\n",
    "\n",
    "# Generating synthetic data\n",
    "np.random.seed(0)\n",
    "X = 2.5 * np.random.randn(100) + 1.5   # Trading volume of stocks (in thousands)\n",
    "res = 0.5 * np.random.randn(100)       # Residuals\n",
    "y = 2 + 0.3 * X + res                  # Stock prices\n",
    "\n",
    "\n",
    "# Visualizing the data\n",
    "plt.figure(figsize=(10, 5))\n",
    "plt.scatter(X, y, color='blue')\n",
    "plt.title('Stock Prices vs Trading Volume')\n",
    "plt.xlabel('Trading Volume (thousands)')\n",
    "plt.ylabel('Stock Price')\n",
    "plt.show()\n",
    "\n"
   ]
  },
  {
   "cell_type": "code",
   "execution_count": null,
   "id": "503c39a6",
   "metadata": {},
   "outputs": [],
   "source": [
    "#Q2\n",
    "#Answer code\n",
    "# Convert to DataFrame\n",
    "data = pd.DataFrame({'Trading_Volume': X, 'Stock_Price': y})\n",
    "\n",
    "\n",
    "# Reshape data for linear regression\n",
    "X = data['Trading_Volume'].values.reshape(-1, 1)\n",
    "y = data['Stock_Price'].values\n",
    "\n",
    "\n",
    "# Splitting data into training and testing sets\n",
    "from sklearn.model_selection import train_test_split\n",
    "X_train, X_test, y_train, y_test = train_test_split(X, y, test_size=0.2, random_state=0)"
   ]
  },
  {
   "cell_type": "code",
   "execution_count": null,
   "id": "da9148db",
   "metadata": {},
   "outputs": [],
   "source": [
    "#Q3\n",
    "#Answer code\n",
    "from sklearn.linear_model import LinearRegression\n",
    "from sklearn.metrics import mean_squared_error, r2_score\n",
    "\n",
    "\n",
    "# Train the model\n",
    "model = LinearRegression()\n",
    "model.fit(X_train, y_train)\n",
    "\n",
    "\n",
    "# Predict using the model\n",
    "y_pred = model.predict(X_test)\n",
    "\n",
    "\n",
    "# Evaluate the model\n",
    "mse = mean_squared_error(y_test, y_pred)\n",
    "r2 = r2_score(y_test, y_pred)\n",
    "\n",
    "\n",
    "print(f'Mean Squared Error: {mse:.2f}')\n",
    "print(f'R² Score: {r2:.2f}')\n"
   ]
  },
  {
   "cell_type": "code",
   "execution_count": null,
   "id": "f8477a0b",
   "metadata": {},
   "outputs": [],
   "source": [
    "#Q4\n",
    "#Answer code\n",
    "# Predicting with new data\n",
    "new_trading_volume = 150\n",
    "new_input = np.array([[new_trading_volume]])\n",
    "predicted_price = model.predict(new_input)\n",
    "print(f\"The predicted price of a stock with a trading volume of {new_trading_volume}k is ${predicted_price[0]:,.2f}\")\n",
    "\n",
    "\n",
    "# Plotting regression line\n",
    "plt.figure(figsize=(10, 5))\n",
    "plt.scatter(X_test, y_test, color='blue', label='Actual')\n",
    "plt.plot(X_test, y_pred, color='red', linewidth=2, label='Predicted')\n",
    "plt.title('Regression Line with Test Data')\n",
    "plt.xlabel('Trading Volume (thousands)')\n",
    "plt.ylabel('Stock Price')\n",
    "plt.legend()\n",
    "plt.show()\n"
   ]
  }
 ],
 "metadata": {
  "kernelspec": {
   "display_name": "Python 3 (ipykernel)",
   "language": "python",
   "name": "python3"
  },
  "language_info": {
   "codemirror_mode": {
    "name": "ipython",
    "version": 3
   },
   "file_extension": ".py",
   "mimetype": "text/x-python",
   "name": "python",
   "nbconvert_exporter": "python",
   "pygments_lexer": "ipython3",
   "version": "3.11.5"
  }
 },
 "nbformat": 4,
 "nbformat_minor": 5
}
