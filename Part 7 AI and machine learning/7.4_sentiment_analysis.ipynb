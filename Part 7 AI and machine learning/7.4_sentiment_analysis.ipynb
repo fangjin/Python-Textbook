{
 "cells": [
  {
   "cell_type": "code",
   "execution_count": null,
   "id": "804c170e",
   "metadata": {},
   "outputs": [],
   "source": [
    "#Q1\n",
    "\n",
    "#Answer code\n",
    "from nltk.corpus import twitter_samples\n",
    "import random\n",
    "import matplotlib.pyplot as plt\n",
    "\n",
    "\n",
    "# Downloading the dataset\n",
    "nltk.download('twitter_samples')\n",
    "\n",
    "\n",
    "# Loading the dataset\n",
    "positive_tweets = twitter_samples.strings('positive_tweets.json')\n",
    "negative_tweets = twitter_samples.strings('negative_tweets.json')\n",
    "all_tweets = positive_tweets + negative_tweets\n",
    "labels = ['pos'] * len(positive_tweets) + ['neg'] * len(negative_tweets)\n",
    "documents = list(zip(all_tweets, labels))\n",
    "random.shuffle(documents)\n",
    "\n",
    "\n",
    "# Visualizing the data distribution\n",
    "all_words = nltk.FreqDist(w.lower() for w in nltk.word_tokenize(' '.join(all_tweets)))\n",
    "plt.figure(figsize=(10, 5))\n",
    "all_words.plot(30, title='Top 30 Most Frequent Words in Tweets')\n"
   ]
  },
  {
   "cell_type": "code",
   "execution_count": null,
   "id": "709d3b84",
   "metadata": {},
   "outputs": [],
   "source": [
    "#Q2\n",
    "#Answer code\n",
    "# Frequency distribution of words\n",
    "freq_dist = nltk.FreqDist(w.lower() for w in nltk.word_tokenize(' '.join(all_tweets)))\n",
    "word_features = list(freq_dist)[:2000]\n",
    "\n",
    "\n",
    "# Explanation\n",
    "print(\"Using FreqDist helps identify the most common words in the corpus, which are likely to have greater predictive power for sentiment analysis.\")"
   ]
  },
  {
   "cell_type": "code",
   "execution_count": null,
   "id": "df7c2e42",
   "metadata": {},
   "outputs": [],
   "source": [
    "#Q3\n",
    "#Answer code\n",
    "def document_features(document):\n",
    "    document_words = set(nltk.word_tokenize(document))\n",
    "    features = {}\n",
    "    for word in word_features:\n",
    "        features[f'contains({word})'] = (word in document_words)\n",
    "    return features\n",
    "\n",
    "\n",
    "# Generating feature sets\n",
    "featuresets = [(document_features(d), c) for (d, c) in documents]\n",
    "train_set, test_set = featuresets[100:], featuresets[:100]\n",
    "\n",
    "\n",
    "# Training the Naive Bayes classifier\n",
    "classifier = nltk.NaiveBayesClassifier.train(train_set)\n",
    "\n",
    "\n",
    "# Testing the classifier's accuracy\n",
    "accuracy = nltk.classify.accuracy(classifier, test_set)\n",
    "print(f\"Accuracy: {accuracy:.2f}\")\n"
   ]
  },
  {
   "cell_type": "code",
   "execution_count": null,
   "id": "440d99da",
   "metadata": {},
   "outputs": [],
   "source": [
    "#Q4\n",
    "#Answer code\n",
    "# Predicting new tweet sentiment\n",
    "def predict_sentiment(text):\n",
    "    features = document_features(text)\n",
    "    return classifier.classify(features)\n",
    "\n",
    "\n",
    "tweet = \"What a great day for a picnic!\"\n",
    "print(\"Sentiment:\", predict_sentiment(tweet))\n",
    "\n",
    "\n",
    "# Showing most informative features\n",
    "classifier.show_most_informative_features(15)\n"
   ]
  }
 ],
 "metadata": {
  "kernelspec": {
   "display_name": "Python 3 (ipykernel)",
   "language": "python",
   "name": "python3"
  },
  "language_info": {
   "codemirror_mode": {
    "name": "ipython",
    "version": 3
   },
   "file_extension": ".py",
   "mimetype": "text/x-python",
   "name": "python",
   "nbconvert_exporter": "python",
   "pygments_lexer": "ipython3",
   "version": "3.11.5"
  }
 },
 "nbformat": 4,
 "nbformat_minor": 5
}
